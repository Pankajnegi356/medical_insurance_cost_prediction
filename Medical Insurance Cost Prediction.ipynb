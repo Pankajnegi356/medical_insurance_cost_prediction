{
 "cells": [
  {
   "cell_type": "markdown",
   "id": "09860367",
   "metadata": {},
   "source": [
    "## Importing Different Libraries in Python"
   ]
  },
  {
   "cell_type": "code",
   "execution_count": null,
   "id": "2264ba63",
   "metadata": {},
   "outputs": [],
   "source": [
    "import numpy as np\n",
    "import pandas as pd\n",
    "import matplotlib.pyplot as plt\n",
    "import seaborn as sns\n",
    "from sklearn.model_selection import train_test_split\n",
    "from sklearn.linear_model import LinearRegression\n",
    "from sklearn import metrics"
   ]
  },
  {
   "cell_type": "markdown",
   "id": "870bea24",
   "metadata": {},
   "source": [
    "## Data Collection"
   ]
  },
  {
   "cell_type": "code",
   "execution_count": null,
   "id": "6d25bcf0",
   "metadata": {},
   "outputs": [],
   "source": [
    "# Loading the dataset from csv file to a pandas dataframe\n",
    "\n",
    "insurance_data = pd.read_csv('C:/Users/negip/insurance.csv')"
   ]
  },
  {
   "cell_type": "code",
   "execution_count": null,
   "id": "6dad7d4d",
   "metadata": {},
   "outputs": [],
   "source": [
    "# Taking first 5 rows from the dataset \n",
    "\n",
    "insurance_data.head()"
   ]
  },
  {
   "cell_type": "code",
   "execution_count": null,
   "id": "2e7bd71f",
   "metadata": {},
   "outputs": [],
   "source": [
    "# Total number of rows and column of dataset\n",
    "\n",
    "insurance_data.shape"
   ]
  },
  {
   "cell_type": "code",
   "execution_count": null,
   "id": "8b7a92fc",
   "metadata": {},
   "outputs": [],
   "source": [
    "# Getting information about the dataset\n",
    "\n",
    "insurance_data.info()"
   ]
  },
  {
   "cell_type": "markdown",
   "id": "5df2db74",
   "metadata": {},
   "source": [
    "##### Categorical features in the dataset\n",
    " - sex\n",
    " - smoker\n",
    " - region\n",
    " "
   ]
  },
  {
   "cell_type": "code",
   "execution_count": null,
   "id": "99facaad",
   "metadata": {},
   "outputs": [],
   "source": [
    "# Checking for missing values in the dataset\n",
    "\n",
    "insurance_data.isnull().sum()"
   ]
  },
  {
   "cell_type": "markdown",
   "id": "f7b33b58",
   "metadata": {},
   "source": [
    "## Data Analysis"
   ]
  },
  {
   "cell_type": "code",
   "execution_count": null,
   "id": "be3f8071",
   "metadata": {
    "scrolled": true
   },
   "outputs": [],
   "source": [
    "# statistical measurement of data\n",
    "\n",
    "insurance_data.describe()"
   ]
  },
  {
   "cell_type": "code",
   "execution_count": null,
   "id": "3c347245",
   "metadata": {},
   "outputs": [],
   "source": [
    "# Distribution of age value\n",
    "\n",
    "sns.set()\n",
    "plt.figure(figsize=(6,6))\n",
    "sns.histplot(insurance_data['age'])\n",
    "plt.title('Age Distribution')\n",
    "plt.show()"
   ]
  },
  {
   "cell_type": "code",
   "execution_count": null,
   "id": "8b0bfbe8",
   "metadata": {},
   "outputs": [],
   "source": [
    "# Counting for gender column\n",
    "\n",
    "plt.figure(figsize=(6,6))\n",
    "sns.countplot(x='sex', data=insurance_data)\n",
    "plt.title('Sex Distribution')\n",
    "plt.show()"
   ]
  },
  {
   "cell_type": "code",
   "execution_count": null,
   "id": "761f74fd",
   "metadata": {},
   "outputs": [],
   "source": [
    "insurance_data['sex'].value_counts()"
   ]
  },
  {
   "cell_type": "code",
   "execution_count": null,
   "id": "7bc89379",
   "metadata": {},
   "outputs": [],
   "source": [
    "# Distribution of bmi value\n",
    "\n",
    "plt.figure(figsize=(6,6))\n",
    "sns.histplot(insurance_data['bmi'])\n",
    "plt.title('Bmi Distribution')\n",
    "plt.show()"
   ]
  },
  {
   "cell_type": "markdown",
   "id": "4f043b2a",
   "metadata": {},
   "source": [
    "##### Normal range for BMI is 18.5 to 24.9\n",
    "\n",
    "- If your BMI is less than 18.5, it falls within the underweight range\n",
    "- If your BMI is 25.0 to 29.9, it falls within the overweight range\n",
    "- If your BMI is 30.0 or higher, it falls within the obese range"
   ]
  },
  {
   "cell_type": "code",
   "execution_count": null,
   "id": "2fff585f",
   "metadata": {},
   "outputs": [],
   "source": [
    "# Counting for children column\n",
    "\n",
    "plt.figure(figsize=(6,6))\n",
    "sns.countplot(x='children', data=insurance_data)\n",
    "plt.title('Children')\n",
    "plt.show()"
   ]
  },
  {
   "cell_type": "code",
   "execution_count": null,
   "id": "eb2b54ec",
   "metadata": {},
   "outputs": [],
   "source": [
    "insurance_data['children'].value_counts()"
   ]
  },
  {
   "cell_type": "code",
   "execution_count": null,
   "id": "913bd36b",
   "metadata": {},
   "outputs": [],
   "source": [
    "# Counting for smoker column\n",
    "\n",
    "plt.figure(figsize=(6,6))\n",
    "sns.countplot(x='smoker', data=insurance_data)\n",
    "plt.title('Smokers')\n",
    "plt.show()"
   ]
  },
  {
   "cell_type": "code",
   "execution_count": null,
   "id": "9883e96a",
   "metadata": {},
   "outputs": [],
   "source": [
    "insurance_data['smoker'].value_counts()"
   ]
  },
  {
   "cell_type": "code",
   "execution_count": null,
   "id": "7a00a726",
   "metadata": {},
   "outputs": [],
   "source": [
    "# Counting for region column\n",
    "\n",
    "plt.figure(figsize=(6,6))\n",
    "sns.countplot(x='region', data=insurance_data)\n",
    "plt.title('Regions')\n",
    "plt.show()"
   ]
  },
  {
   "cell_type": "code",
   "execution_count": null,
   "id": "7786c7e6",
   "metadata": {},
   "outputs": [],
   "source": [
    "insurance_data['region'].value_counts()"
   ]
  },
  {
   "cell_type": "code",
   "execution_count": null,
   "id": "0c703eaa",
   "metadata": {},
   "outputs": [],
   "source": [
    "# Distribution of charges value\n",
    "\n",
    "plt.figure(figsize=(6,6))\n",
    "sns.histplot(insurance_data['charges'])\n",
    "plt.title('Charge Distribution')\n",
    "plt.show()"
   ]
  },
  {
   "cell_type": "markdown",
   "id": "35761f5d",
   "metadata": {},
   "source": [
    "## Data Pre-Processing"
   ]
  },
  {
   "cell_type": "markdown",
   "id": "d596ae27",
   "metadata": {},
   "source": [
    "##### Encoding the Categorical features"
   ]
  },
  {
   "cell_type": "code",
   "execution_count": null,
   "id": "f70406c3",
   "metadata": {},
   "outputs": [],
   "source": [
    "# Encoding sex column\n",
    "\n",
    "insurance_data.replace({'sex':{'male':0 , 'female':1}} , inplace=True)\n",
    "\n",
    "# Encoding smoker column\n",
    "\n",
    "insurance_data.replace({'smoker':{'yes':0 , 'no':1}} , inplace=True)\n",
    "\n",
    "# Encoding region column\n",
    "\n",
    "insurance_data.replace({'region':{'southeast':0 , 'southwest':1 , 'northeast':2 , 'northwest':3}} , inplace=True)"
   ]
  },
  {
   "cell_type": "markdown",
   "id": "664d6f40",
   "metadata": {},
   "source": [
    "##### Splitting the features and target"
   ]
  },
  {
   "cell_type": "code",
   "execution_count": null,
   "id": "b578ee50",
   "metadata": {},
   "outputs": [],
   "source": [
    "X = insurance_data.drop(columns='charges' , axis=1)\n",
    "Y = insurance_data['charges']"
   ]
  },
  {
   "cell_type": "code",
   "execution_count": null,
   "id": "a483b966",
   "metadata": {},
   "outputs": [],
   "source": [
    "print(X)"
   ]
  },
  {
   "cell_type": "code",
   "execution_count": null,
   "id": "51003bc9",
   "metadata": {},
   "outputs": [],
   "source": [
    "print(Y)"
   ]
  },
  {
   "cell_type": "markdown",
   "id": "c3165b04",
   "metadata": {},
   "source": [
    "##### Splitting the data into training data and testing data"
   ]
  },
  {
   "cell_type": "code",
   "execution_count": null,
   "id": "3ed58b03",
   "metadata": {},
   "outputs": [],
   "source": [
    "X_train,X_test,Y_train,Y_test = train_test_split(X,Y, test_size=0.2 , random_state=2 )"
   ]
  },
  {
   "cell_type": "code",
   "execution_count": null,
   "id": "524e2c7a",
   "metadata": {},
   "outputs": [],
   "source": [
    "# 80% of the data is in the training data and 20% for the testing data\n",
    "\n",
    "print(X.shape , X_train.shape , X_test.shape)"
   ]
  },
  {
   "cell_type": "markdown",
   "id": "32324015",
   "metadata": {},
   "source": [
    "##  Model Training"
   ]
  },
  {
   "cell_type": "markdown",
   "id": "c2412063",
   "metadata": {},
   "source": [
    "##### Linear Regression"
   ]
  },
  {
   "cell_type": "code",
   "execution_count": null,
   "id": "1aa41b44",
   "metadata": {},
   "outputs": [],
   "source": [
    "# Loading the linear regression model\n",
    "\n",
    "regressor = LinearRegression()"
   ]
  },
  {
   "cell_type": "code",
   "execution_count": null,
   "id": "6fb015e2",
   "metadata": {},
   "outputs": [],
   "source": [
    "regressor.fit(X_train , Y_train)"
   ]
  },
  {
   "cell_type": "markdown",
   "id": "6370f2e5",
   "metadata": {},
   "source": [
    "##### Model Evaluation"
   ]
  },
  {
   "cell_type": "code",
   "execution_count": null,
   "id": "a6ba9ab5",
   "metadata": {},
   "outputs": [],
   "source": [
    "# prediction on training data\n",
    "\n",
    "training_data_prediction = regressor.predict(X_train)"
   ]
  },
  {
   "cell_type": "code",
   "execution_count": null,
   "id": "6c0f836e",
   "metadata": {},
   "outputs": [],
   "source": [
    "# R sqaured value \n",
    "\n",
    "r2_train = metrics.r2_score(Y_train , training_data_prediction)\n",
    "print(\"R Squared Value : \", r2_train)"
   ]
  },
  {
   "cell_type": "code",
   "execution_count": null,
   "id": "03322a2d",
   "metadata": {},
   "outputs": [],
   "source": [
    "# prediction on test data\n",
    "\n",
    "testing_data_prediction = regressor.predict(X_test)"
   ]
  },
  {
   "cell_type": "code",
   "execution_count": null,
   "id": "cd6c4e0a",
   "metadata": {},
   "outputs": [],
   "source": [
    "# R sqaured value \n",
    "\n",
    "r2_test = metrics.r2_score(Y_test , testing_data_prediction)\n",
    "print(\"R Squared Value : \", r2_test)"
   ]
  },
  {
   "cell_type": "markdown",
   "id": "2afdb9e3",
   "metadata": {},
   "source": [
    "## Building a Predictive System"
   ]
  },
  {
   "cell_type": "code",
   "execution_count": null,
   "id": "00d2e3c7",
   "metadata": {},
   "outputs": [],
   "source": [
    "# taking input from user\n",
    "\n",
    "age = int(input(\"Enter your age : \"))\n",
    "sex = int(input(\"Enter 0 if male and 1 if female : \"))\n",
    "bmi = float(input(\"Enter your Body Mass Index : \"))\n",
    "children = int(input(\"Enter the number of childrens : \"))\n",
    "smoker = int(input(\"Enter 0 if you smoke and 1 if you do not smoke : \"))\n",
    "region = int(input(\"Enter 0 if southeast , 1 if southwest , 2 if northeast, 3 if southwest : \"))\n",
    " \n",
    "input_data = (age,sex,bmi,children,smoker,region)\n",
    "\n",
    "input_data_numpy_array = np.asarray(input_data)\n",
    "\n",
    "input_data_reshaped = input_data_numpy_array.reshape(1,-1)\n",
    "\n",
    "prediction = regressor.predict(input_data_reshaped)\n",
    "\n",
    "print(\"The Cost of the insurance is\",prediction)"
   ]
  },
  {
   "cell_type": "code",
   "execution_count": null,
   "id": "d5128df1",
   "metadata": {},
   "outputs": [],
   "source": []
  }
 ],
 "metadata": {
  "kernelspec": {
   "display_name": "Python 3 (ipykernel)",
   "language": "python",
   "name": "python3"
  },
  "language_info": {
   "codemirror_mode": {
    "name": "ipython",
    "version": 3
   },
   "file_extension": ".py",
   "mimetype": "text/x-python",
   "name": "python",
   "nbconvert_exporter": "python",
   "pygments_lexer": "ipython3",
   "version": "3.11.5"
  }
 },
 "nbformat": 4,
 "nbformat_minor": 5
}
